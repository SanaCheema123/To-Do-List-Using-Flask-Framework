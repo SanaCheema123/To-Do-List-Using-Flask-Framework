{
 "cells": [
  {
   "cell_type": "code",
   "execution_count": 3,
   "metadata": {},
   "outputs": [
    {
     "name": "stdout",
     "output_type": "stream",
     "text": [
      "Menu:\n",
      "1. Add Task\n",
      "2. View Task\n",
      "3. Mark as done\n",
      "4.Exit\n"
     ]
    }
   ],
   "source": [
    "def display_menu():\n",
    "    print(\"Menu:\")\n",
    "    print(\"1. Add Task\")\n",
    "    print(\"2. View Task\")\n",
    "    print(\"3. Mark as done\")\n",
    "    print(\"4.Exit\")\n",
    "display_menu()"
   ]
  },
  {
   "cell_type": "code",
   "execution_count": 6,
   "metadata": {},
   "outputs": [],
   "source": [
    "#step 2: Adding Tasks\n",
    "def add_task(tasks):\n",
    "    task=input(\"Enter your task:\")\n",
    "    tasks.append(task)\n",
    "    print(\"Task sucssfully added\")"
   ]
  },
  {
   "cell_type": "code",
   "execution_count": 8,
   "metadata": {},
   "outputs": [],
   "source": [
    "#step 3: Viewing Tasks\n",
    "def view_task(tasks):\n",
    "    print(\"/nTasks:\")\n",
    "    for i,  task in enumerate (tasks, start=1):\n",
    "      print(f\"{i}. {task}\") \n",
    "    \n",
    "    "
   ]
  },
  {
   "cell_type": "code",
   "execution_count": 9,
   "metadata": {},
   "outputs": [],
   "source": [
    "#Step 4: Marking Tasks as Done\n",
    "def mark_done(tasks):\n",
    "    if not tasks:\n",
    "        print(\"task is not available\")\n",
    "    view_task(tasks) #display list of task with indices\n",
    "    index = int(input(\"Enter task index to mark as done: \")) - 1\n",
    "    if 0 <= index < len(tasks):\n",
    "        removed_task = tasks.pop(index)\n",
    "        print(f\"Task '{removed_task}' marked as done and removed.\")\n",
    "    else:\n",
    "        print(\"Invalid task index.\") \n",
    "    "
   ]
  },
  {
   "cell_type": "code",
   "execution_count": 12,
   "metadata": {},
   "outputs": [
    {
     "name": "stdout",
     "output_type": "stream",
     "text": [
      "Menu:\n",
      "1. Add Task\n",
      "2. View Task\n",
      "3. Mark as done\n",
      "4.Exit\n"
     ]
    }
   ],
   "source": [
    "def main():\n",
    "    tasks = []  # Initialize an empty list to store tasks\n",
    "    \n",
    "    while True:\n",
    "        display_menu()\n",
    "\n",
    "        choice = input(\"Enter your choice: \")\n",
    "\n",
    "        if choice == '1':\n",
    "            add_task(tasks)\n",
    "        elif choice == '2':\n",
    "            view_task(tasks)\n",
    "        elif choice == '3':\n",
    "            mark_done(tasks)\n",
    "        elif choice == '4':\n",
    "            print(\"Exiting.\")\n",
    "            break\n",
    "        else:\n",
    "            print(\"Invalid choice. Please select a valid option.\")\n",
    "\n",
    "if __name__ == \"__main__\":\n",
    "    main()"
   ]
  }
 ],
 "metadata": {
  "kernelspec": {
   "display_name": "Python 3",
   "language": "python",
   "name": "python3"
  },
  "language_info": {
   "codemirror_mode": {
    "name": "ipython",
    "version": 3
   },
   "file_extension": ".py",
   "mimetype": "text/x-python",
   "name": "python",
   "nbconvert_exporter": "python",
   "pygments_lexer": "ipython3",
   "version": "3.12.5"
  }
 },
 "nbformat": 4,
 "nbformat_minor": 2
}
